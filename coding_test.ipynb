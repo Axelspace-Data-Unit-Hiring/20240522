{
 "cells": [
  {
   "cell_type": "markdown",
   "metadata": {
    "id": "XSh84Ry6f2m5"
   },
   "source": [
    "# Coding test"
   ]
  },
  {
   "cell_type": "code",
   "execution_count": null,
   "metadata": {
    "tags": []
   },
   "outputs": [],
   "source": [
    "!pip install numpy matplotlib scipy"
   ]
  },
  {
   "cell_type": "code",
   "execution_count": null,
   "metadata": {
    "executionInfo": {
     "elapsed": 4,
     "status": "ok",
     "timestamp": 1716338490773,
     "user": {
      "displayName": "Lukasz Krawczyk",
      "userId": "06889174503619623860"
     },
     "user_tz": -540
    },
    "id": "LS26B1ksw7YX",
    "tags": []
   },
   "outputs": [],
   "source": [
    "import numpy as np\n",
    "import matplotlib.pyplot as plt\n",
    "from scipy.spatial.transform import Rotation as R"
   ]
  },
  {
   "cell_type": "markdown",
   "metadata": {
    "id": "rz8GkBdRqll3"
   },
   "source": [
    "# Utility functions"
   ]
  },
  {
   "cell_type": "code",
   "execution_count": null,
   "metadata": {
    "executionInfo": {
     "elapsed": 3,
     "status": "ok",
     "timestamp": 1716338490773,
     "user": {
      "displayName": "Lukasz Krawczyk",
      "userId": "06889174503619623860"
     },
     "user_tz": -540
    },
    "id": "kh43t6d-fcF5",
    "tags": []
   },
   "outputs": [],
   "source": [
    "def plot(camera_position, orientation_euler, intersection_point = None):\n",
    "    fig = plt.figure(figsize=(5, 5))\n",
    "    ax = fig.add_subplot(111, projection='3d')\n",
    "\n",
    "    # plot xyz axes\n",
    "    ax.plot([0, 1], [0, 0], [0, 0], c='r')\n",
    "    ax.plot([0, 0], [0, 1], [0, 0], c='g')\n",
    "    ax.plot([0, 0], [0, 0], [0, 1], c='b')\n",
    "\n",
    "    # plot camera position\n",
    "    ax.scatter(*camera_position, s=20, c='red')\n",
    "    # plot projection of the camera position on the XY plane\n",
    "    ax.scatter(camera_position[0], camera_position[1], 0, marker='x', c='k', alpha=0.2)\n",
    "    # plot line between camera position and above projection\n",
    "    ax.plot([camera_position[0], camera_position[0]], [camera_position[1], camera_position[1]], [0, camera_position[2]], ls='--', c='k', alpha=0.2)\n",
    "\n",
    "    # plot viewing vector\n",
    "    r = R.from_euler(\"xyz\", orientation_euler, degrees=True)\n",
    "    line = np.zeros((2, 3))\n",
    "    line[1, 2] = 1\n",
    "    line_rot = r.apply(line)\n",
    "    line_plot = line_rot + camera_position\n",
    "    ax.plot(line_plot[:, 0], line_plot[:, 1], line_plot[:, 2], lw=4, c='y')\n",
    "\n",
    "    # plot intersection point\n",
    "    if intersection_point is not None:\n",
    "        ax.scatter(*intersection_point, marker='x', c='b', s=20)\n",
    "\n",
    "    # set attributs\n",
    "    ax.set(title='', xlim=(0, 3), ylim=(3, 0), zlim=(0, 3),\n",
    "           xlabel='X', ylabel='Y', zlabel='Z',\n",
    "           xticks=range(0, 5), yticks=range(0, 5), zticks=range(0, 5))\n",
    "    plt.show()"
   ]
  },
  {
   "cell_type": "markdown",
   "metadata": {
    "id": "6MOoZbTxqe0P"
   },
   "source": [
    "# Simple camera"
   ]
  },
  {
   "cell_type": "code",
   "execution_count": null,
   "metadata": {
    "executionInfo": {
     "elapsed": 2,
     "status": "ok",
     "timestamp": 1716338493837,
     "user": {
      "displayName": "Lukasz Krawczyk",
      "userId": "06889174503619623860"
     },
     "user_tz": -540
    },
    "id": "7cxVCG30fhh6",
    "tags": []
   },
   "outputs": [],
   "source": [
    "# camera\n",
    "position = np.array([2, 1, 3])\n",
    "orientation_euler = np.array([-180, 0, 0]) # rotation in degrees, camera is pointing in the local +Z direction\n"
   ]
  },
  {
   "cell_type": "code",
   "execution_count": null,
   "metadata": {
    "colab": {
     "base_uri": "https://localhost:8080/",
     "height": 433
    },
    "executionInfo": {
     "elapsed": 597,
     "status": "ok",
     "timestamp": 1716338496465,
     "user": {
      "displayName": "Lukasz Krawczyk",
      "userId": "06889174503619623860"
     },
     "user_tz": -540
    },
    "id": "SlE_Svh-fivC",
    "outputId": "be210040-5dc7-456d-87dc-4e9bf6a18575",
    "tags": []
   },
   "outputs": [],
   "source": [
    "plot(position, orientation_euler)"
   ]
  },
  {
   "cell_type": "markdown",
   "metadata": {
    "id": "k66CimryoaVy"
   },
   "source": []
  },
  {
   "cell_type": "markdown",
   "metadata": {
    "id": "yemYba3Ofxqc"
   },
   "source": [
    "# 1. Get intersection"
   ]
  },
  {
   "cell_type": "code",
   "execution_count": null,
   "metadata": {
    "executionInfo": {
     "elapsed": 363,
     "status": "ok",
     "timestamp": 1716338507909,
     "user": {
      "displayName": "Lukasz Krawczyk",
      "userId": "06889174503619623860"
     },
     "user_tz": -540
    },
    "id": "H6CBihm_fxF_",
    "tags": []
   },
   "outputs": [],
   "source": [
    "def get_intersection_xy(position: np.ndarray, orientation_euler: np.ndarray)-> np.ndarray:\n",
    "    rotation_matrix = R.from_euler(\"xyz\", orientation_euler, degrees=True).as_matrix()\n",
    "\n",
    "    viewing_direction = np.dot(rotation_matrix, np.array([0, 0, 1]))\n",
    "\n",
    "    t = position[2] / viewing_direction[2]\n",
    "    intersection_point = position + t * viewing_direction\n",
    "\n",
    "    return intersection_point[:2]"
   ]
  },
  {
   "cell_type": "code",
   "execution_count": null,
   "metadata": {
    "colab": {
     "base_uri": "https://localhost:8080/"
    },
    "executionInfo": {
     "elapsed": 2,
     "status": "ok",
     "timestamp": 1716338508365,
     "user": {
      "displayName": "Lukasz Krawczyk",
      "userId": "06889174503619623860"
     },
     "user_tz": -540
    },
    "id": "9UG7-FpVgC43",
    "outputId": "36e71773-375a-4f91-965b-aba2048cc8ef",
    "tags": []
   },
   "outputs": [],
   "source": [
    "intersection_point = get_intersection_xy(position, orientation_euler)\n",
    "intersection_point"
   ]
  },
  {
   "cell_type": "code",
   "execution_count": null,
   "metadata": {
    "colab": {
     "base_uri": "https://localhost:8080/",
     "height": 433
    },
    "executionInfo": {
     "elapsed": 5,
     "status": "ok",
     "timestamp": 1716338508842,
     "user": {
      "displayName": "Lukasz Krawczyk",
      "userId": "06889174503619623860"
     },
     "user_tz": -540
    },
    "id": "Q70rk3Gnf-XT",
    "outputId": "6e7f3c2c-b2f5-4409-dc25-5b4bdd0668c4",
    "tags": []
   },
   "outputs": [],
   "source": [
    "plot(position, orientation_euler, intersection_point)"
   ]
  },
  {
   "cell_type": "code",
   "execution_count": null,
   "metadata": {
    "executionInfo": {
     "elapsed": 2,
     "status": "ok",
     "timestamp": 1716338510763,
     "user": {
      "displayName": "Lukasz Krawczyk",
      "userId": "06889174503619623860"
     },
     "user_tz": -540
    },
    "id": "-5gjBdcEgcPq"
   },
   "outputs": [],
   "source": [
    "def test_camera_pointing_downward():\n",
    "    position = np.array([0, 0, 5])\n",
    "    orientation_euler = np.array([-180, 0, 0])\n",
    "\n",
    "    intersection = get_intersection_xy(position, orientation_euler)\n",
    "\n",
    "    expected_intersection = np.array([0, 0])\n",
    "    assert np.allclose(intersection, expected_intersection), f\"Expected intersection at {expected_intersection}, got {intersection}\"\n",
    "\n",
    "def test_camera_pointing_at_angle():\n",
    "    position = np.array([0, 0, 5])\n",
    "    orientation_euler = np.array([-180, -20, 0])\n",
    "\n",
    "    intersection = get_intersection_xy(position, orientation_euler)\n",
    "\n",
    "    assert intersection[0] > 0 and np.allclose(intersection[1], 0), \"Intersection should be in positive X direction from the origin\""
   ]
  },
  {
   "cell_type": "code",
   "execution_count": null,
   "metadata": {
    "executionInfo": {
     "elapsed": 2,
     "status": "ok",
     "timestamp": 1716338512924,
     "user": {
      "displayName": "Lukasz Krawczyk",
      "userId": "06889174503619623860"
     },
     "user_tz": -540
    },
    "id": "i6-zZxjogi9W"
   },
   "outputs": [],
   "source": [
    "test_camera_pointing_downward()"
   ]
  },
  {
   "cell_type": "code",
   "execution_count": null,
   "metadata": {
    "colab": {
     "base_uri": "https://localhost:8080/",
     "height": 228
    },
    "executionInfo": {
     "elapsed": 314,
     "status": "error",
     "timestamp": 1716338514617,
     "user": {
      "displayName": "Lukasz Krawczyk",
      "userId": "06889174503619623860"
     },
     "user_tz": -540
    },
    "id": "dRCg9EyggnC5",
    "outputId": "fa9b3da2-5a0c-4442-ebbb-11fc26419481"
   },
   "outputs": [],
   "source": [
    "test_camera_pointing_at_angle()"
   ]
  },
  {
   "cell_type": "markdown",
   "metadata": {
    "id": "TWJ5Gxggl-4T"
   },
   "source": [
    "# 2. Frame camera\n",
    "\n",
    "Now, instead of assuming camera is a single point, we would like to modify it into a 2D-sensor. To make it simple, we use the 4 corners of the frame to represent. Now based on the previous functions, we would like to create a function that can find the intersection of the frame to planes."
   ]
  },
  {
   "cell_type": "code",
   "execution_count": null,
   "metadata": {
    "id": "6LLEN72ZkWhg"
   },
   "outputs": [],
   "source": []
  },
  {
   "cell_type": "code",
   "execution_count": null,
   "metadata": {
    "id": "QsL5GSpyVny0"
   },
   "outputs": [],
   "source": []
  }
 ],
 "metadata": {
  "colab": {
   "provenance": [
    {
     "file_id": "1T8uGQXfqWQ-MIZ0QXmqDambQ91bAzlFn",
     "timestamp": 1713311356608
    }
   ]
  },
  "kernelspec": {
   "display_name": "Python 3 (ipykernel)",
   "language": "python",
   "name": "python3"
  },
  "language_info": {
   "codemirror_mode": {
    "name": "ipython",
    "version": 3
   },
   "file_extension": ".py",
   "mimetype": "text/x-python",
   "name": "python",
   "nbconvert_exporter": "python",
   "pygments_lexer": "ipython3",
   "version": "3.10.12"
  }
 },
 "nbformat": 4,
 "nbformat_minor": 4
}
