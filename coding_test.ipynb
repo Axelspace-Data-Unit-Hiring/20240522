{
 "cells": [
  {
   "cell_type": "markdown",
   "metadata": {
    "id": "XSh84Ry6f2m5"
   },
   "source": "# Coding Test for Remote Sensing Engineer by Data Unit"
  },
  {
   "cell_type": "code",
   "metadata": {
    "tags": []
   },
   "source": "!pip install numpy matplotlib scipy",
   "outputs": [],
   "execution_count": null
  },
  {
   "cell_type": "code",
   "metadata": {
    "executionInfo": {
     "elapsed": 4,
     "status": "ok",
     "timestamp": 1716338490773,
     "user": {
      "displayName": "Lukasz Krawczyk",
      "userId": "06889174503619623860"
     },
     "user_tz": -540
    },
    "id": "LS26B1ksw7YX",
    "tags": []
   },
   "source": [
    "import numpy as np\n",
    "import matplotlib.pyplot as plt\n",
    "from scipy.spatial.transform import Rotation as R"
   ],
   "outputs": [],
   "execution_count": null
  },
  {
   "metadata": {},
   "cell_type": "markdown",
   "source": [
    "\n",
    "## Introduction to the Scene\n",
    "\n",
    "The scene consist of an abstract camera which is only a dot point with no volume at all. This camera is looking toward the direction that user specified.\n",
    "<br />\n",
    "<br />\n",
    "<br />\n",
    "<img src=\"fig1.png\" alt=\"Scene Illustration\" width=\"1000\"/>"
   ]
  },
  {
   "metadata": {},
   "cell_type": "markdown",
   "source": [
    "As you can see in the above example, the red dot is our camera located at x = 2, y = 1, z = 3.\n",
    "And if the user specify the orientation of the camera as [-180, 0, 0], it means the camera is pointing downward.\n",
    "\n",
    "## Introduction to the Task\n",
    "\n",
    "Now, we would like to write a simple function called `get_intersection_xy` that takes the camera position and orientation as input and returns the intersection point of the camera's viewing direction with the XY plane.\n",
    "The intersection point should be a 2D point (x, y) in the XY plane. Using the example as above, it should return (x = 2, y = 1).\n",
    "\n",
    "We tried to create implementation of the function as following, but..."
   ]
  },
  {
   "cell_type": "code",
   "metadata": {
    "executionInfo": {
     "elapsed": 363,
     "status": "ok",
     "timestamp": 1716338507909,
     "user": {
      "displayName": "Lukasz Krawczyk",
      "userId": "06889174503619623860"
     },
     "user_tz": -540
    },
    "id": "H6CBihm_fxF_",
    "tags": []
   },
   "source": [
    "# Our Current Implementation: \n",
    "def get_intersection_xy(position: np.ndarray, orientation_euler: np.ndarray)-> np.ndarray:\n",
    "    rotation_matrix = R.from_euler(\"xyz\", orientation_euler, degrees=True).as_matrix()\n",
    "\n",
    "    viewing_direction = np.dot(rotation_matrix, np.array([0, 0, 1]))\n",
    "\n",
    "    t = position[2] / viewing_direction[2]\n",
    "    intersection_point = position + t * viewing_direction\n",
    "\n",
    "    return intersection_point[:2]"
   ],
   "outputs": [],
   "execution_count": null
  },
  {
   "cell_type": "code",
   "metadata": {
    "colab": {
     "base_uri": "https://localhost:8080/"
    },
    "executionInfo": {
     "elapsed": 2,
     "status": "ok",
     "timestamp": 1716338508365,
     "user": {
      "displayName": "Lukasz Krawczyk",
      "userId": "06889174503619623860"
     },
     "user_tz": -540
    },
    "id": "9UG7-FpVgC43",
    "outputId": "36e71773-375a-4f91-965b-aba2048cc8ef",
    "tags": []
   },
   "source": [
    "position = np.array([2, 1, 3])\n",
    "orientation_euler = np.array([-180, 0, 0])\n",
    "intersection_point = get_intersection_xy(position, orientation_euler)\n",
    "intersection_point"
   ],
   "outputs": [],
   "execution_count": null
  },
  {
   "metadata": {},
   "cell_type": "markdown",
   "source": [
    "\n",
    "## the Problem\n",
    "\n",
    "The above result looks good! Based on that, we wrote a test function `test_camera_pointing_downward` as below. We also wrote another test function `test_camera_pointing_at_angle` to verify if the function also works the camera pointing at an angle. Sadly, the test function failed. Can you help us to fix the function?"
   ]
  },
  {
   "cell_type": "code",
   "metadata": {
    "executionInfo": {
     "elapsed": 2,
     "status": "ok",
     "timestamp": 1716338510763,
     "user": {
      "displayName": "Lukasz Krawczyk",
      "userId": "06889174503619623860"
     },
     "user_tz": -540
    },
    "id": "-5gjBdcEgcPq"
   },
   "source": [
    "def test_camera_pointing_downward():\n",
    "    position = np.array([2, 1, 3])\n",
    "    orientation_euler = np.array([-180, 0, 0])\n",
    "\n",
    "    intersection = get_intersection_xy(position, orientation_euler)\n",
    "\n",
    "    expected_intersection = np.array([2, 1])\n",
    "    assert np.allclose(intersection, expected_intersection), f\"Expected intersection at {expected_intersection}, got {intersection}\"\n",
    "\n",
    "def test_camera_pointing_at_angle():\n",
    "    position = np.array([0, 0, 5])\n",
    "    orientation_euler = np.array([-180, -20, 0])\n",
    "\n",
    "    intersection = get_intersection_xy(position, orientation_euler)\n",
    "\n",
    "    assert intersection[0] > 0 and np.allclose(intersection[1], 0), \"Intersection should be in positive X direction from the origin\""
   ],
   "outputs": [],
   "execution_count": null
  },
  {
   "cell_type": "code",
   "metadata": {
    "executionInfo": {
     "elapsed": 2,
     "status": "ok",
     "timestamp": 1716338512924,
     "user": {
      "displayName": "Lukasz Krawczyk",
      "userId": "06889174503619623860"
     },
     "user_tz": -540
    },
    "id": "i6-zZxjogi9W"
   },
   "source": [
    "test_camera_pointing_downward()"
   ],
   "outputs": [],
   "execution_count": null
  },
  {
   "cell_type": "code",
   "metadata": {
    "colab": {
     "base_uri": "https://localhost:8080/",
     "height": 228
    },
    "executionInfo": {
     "elapsed": 314,
     "status": "error",
     "timestamp": 1716338514617,
     "user": {
      "displayName": "Lukasz Krawczyk",
      "userId": "06889174503619623860"
     },
     "user_tz": -540
    },
    "id": "dRCg9EyggnC5",
    "outputId": "fa9b3da2-5a0c-4442-ebbb-11fc26419481"
   },
   "source": [
    "test_camera_pointing_at_angle()"
   ],
   "outputs": [],
   "execution_count": null
  },
  {
   "cell_type": "markdown",
   "metadata": {
    "id": "TWJ5Gxggl-4T"
   },
   "source": [
    "# 2. Frame camera\n",
    "\n",
    "Now, instead of assuming camera is a single point, we would like to make it more physically realistic.\n",
    "We are thinking about modifying it into a 2D-sensor. To make it simple, we use the 4 corners of the frame to represent.\n",
    "Assuming the above, we would like to create a function that can find the intersection of the frame to planes:\n",
    "- in your opinion, how should we project the camera plane to the XY plane?\n",
    "- How could you use the previous functions to achieve that?\n",
    "\n",
    "<br />\n",
    "<img src=\"fig2.png\" alt=\"Scene Illustration\" width=\"1000\"/>\n"
   ]
  },
  {
   "cell_type": "code",
   "metadata": {
    "id": "6LLEN72ZkWhg"
   },
   "source": [],
   "outputs": [],
   "execution_count": null
  }
 ],
 "metadata": {
  "colab": {
   "provenance": [
    {
     "file_id": "1T8uGQXfqWQ-MIZ0QXmqDambQ91bAzlFn",
     "timestamp": 1713311356608
    }
   ]
  },
  "kernelspec": {
   "display_name": "Python 3 (ipykernel)",
   "language": "python",
   "name": "python3"
  },
  "language_info": {
   "codemirror_mode": {
    "name": "ipython",
    "version": 3
   },
   "file_extension": ".py",
   "mimetype": "text/x-python",
   "name": "python",
   "nbconvert_exporter": "python",
   "pygments_lexer": "ipython3",
   "version": "3.10.12"
  }
 },
 "nbformat": 4,
 "nbformat_minor": 4
}
